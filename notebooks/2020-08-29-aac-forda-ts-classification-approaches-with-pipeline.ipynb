{
 "cells": [
  {
   "cell_type": "code",
   "execution_count": 1,
   "metadata": {},
   "outputs": [],
   "source": [
    "# geral\n",
    "import re\n",
    "import os\n",
    "import numpy as np\n",
    "import pandas as pd\n",
    "import matplotlib.pyplot as plt\n",
    "import seaborn as sns; sns.set()\n",
    "import warnings\n",
    "from itertools import product\n",
    "from multiprocessing import cpu_count\n",
    "from datetime import datetime\n",
    "from uuid import uuid4\n",
    "import joblib\n",
    "\n",
    "# modeling\n",
    "# import sktime\n",
    "# from sktime.utils.load_data import load_from_tsfile_to_dataframe\n",
    "# from sktime.utils.load_data import load_from_ucr_tsv_to_dataframe\n",
    "# from sktime.utils.load_data import load_from_arff_to_dataframe\n",
    "# from sktime.transformers.series_as_features.shapelets import ContractedShapeletTransform\n",
    "from sklearn.model_selection import train_test_split\n",
    "from sklearn.metrics import recall_score\n",
    "from sklearn.metrics import confusion_matrix\n",
    "from sklearn.impute import SimpleImputer\n",
    "from sklearn.preprocessing import StandardScaler, RobustScaler, QuantileTransformer, PowerTransformer\n",
    "from sklearn.feature_selection import SelectFromModel\n",
    "from sklearn.feature_selection import SelectKBest, chi2\n",
    "from sklearn.model_selection import cross_val_score\n",
    "from sklearn.pipeline import Pipeline\n",
    "from sklearn.decomposition import PCA\n",
    "from sklearn.feature_selection import mutual_info_classif\n",
    "import pickle\n",
    "\n",
    "from sklearn.linear_model import LogisticRegression\n",
    "from sklearn.svm import LinearSVC\n",
    "from sklearn.ensemble import ExtraTreesClassifier\n",
    "from sklearn.ensemble import RandomForestClassifier\n",
    "from sklearn.ensemble import GradientBoostingClassifier\n",
    "from xgboost import XGBClassifier\n",
    "from lightgbm import LGBMClassifier\n",
    "\n",
    "from sklearn.metrics import confusion_matrix, classification_report"
   ]
  },
  {
   "cell_type": "code",
   "execution_count": 2,
   "metadata": {},
   "outputs": [],
   "source": [
    "warnings.simplefilter(\"ignore\")"
   ]
  },
  {
   "cell_type": "code",
   "execution_count": 3,
   "metadata": {},
   "outputs": [],
   "source": [
    "SEED = 123\n",
    "NJOBS = cpu_count() - 1"
   ]
  },
  {
   "cell_type": "code",
   "execution_count": 4,
   "metadata": {},
   "outputs": [],
   "source": [
    "np.random.seed(SEED)"
   ]
  },
  {
   "cell_type": "markdown",
   "metadata": {},
   "source": [
    "# Goal"
   ]
  },
  {
   "cell_type": "markdown",
   "metadata": {},
   "source": [
    "The goal of this notebook is to compare different approaches for time series classification for solving a particular problem. In this case, we'll be using the [FordA dataset](http://www.timeseriesclassification.com/description.php?Dataset=FordA) from the [UCR Time Series archive](https://www.cs.ucr.edu/%7Eeamonn/time_series_data_2018/). \n",
    "As explained in the original page:\n",
    "    \n",
    "> This data was originally used in a competition in the IEEE World Congress on Computational Intelligence, 2008. The classification problem is to diagnose whether a certain symptom exists or does not exist in an automotive subsystem. Each case consists of 500 measurements of engine noise and a classification. There are two separate problems: For FordA the Train and test data set were collected in typical operating conditions, with minimal noise contamination.\n",
    "\n",
    "In particular, this notebook will focus on using two time series libraries: [sktime](https://sktime.org/) and [tsfresh](https://tsfresh.readthedocs.io/en/latest/). They provide different approaches of solving the problem, and the main goal here is to practice both."
   ]
  },
  {
   "cell_type": "markdown",
   "metadata": {},
   "source": [
    "# List of Contents\n",
    "1. [Get Data](#Get-Data)\n",
    "2. [First inspection](#First-inspection)\n",
    "3. [Split into training and testing](#Split-into-training-and-testing)\n",
    "4. [Exploratory Data Analysis](#Exploratory-Data-Analysis)\n",
    "4. [tsfresh](#tsfresh)\n",
    "5. [sktime](#sktime)\n",
    "    - [Time Series Forest](#Time-Series-Forest)\n",
    "    - [Random Interval Spectral Ensemble (RISE)](#Random-Interval-Spectral-Ensemble)\n",
    "    - [K-Nearest Neighbors](#K-Nearest-Neighbors)\n",
    "    - [Bag of SFA Symbols (BOSS)](#Bag-of-SFA-Symbols)\n",
    "    - [Shapelet Transform](#Shapelet-Transform)"
   ]
  },
  {
   "cell_type": "markdown",
   "metadata": {},
   "source": [
    "# Utility Functions"
   ]
  },
  {
   "cell_type": "code",
   "execution_count": 5,
   "metadata": {},
   "outputs": [],
   "source": [
    "def fname(obj):\n",
    "    \"\"\"Pickle object with arbitrary date, name and uuid.\"\"\"\n",
    "    _human_time = datetime.now().strftime('%Y%m%d')\n",
    "    _id = uuid4().hex\n",
    "    _name = obj.__class__.__name__\n",
    "    return f\"{_human_time}_{_name}_{_id}\""
   ]
  },
  {
   "cell_type": "code",
   "execution_count": 6,
   "metadata": {},
   "outputs": [],
   "source": [
    "def to_stacked(df):\n",
    "    \"\"\"Reshapes DataFrame of shape (n observations, t timepoints)\n",
    "    into a stacked format of (n observations * t_timepoints, 3),\n",
    "    the new columns being `id`, `time` and `value`\"\"\"\n",
    "    \n",
    "    df.index.name = 'id'\n",
    "    \n",
    "    return (df\n",
    "            .reset_index()\n",
    "            .melt(id_vars='id', var_name='ts', value_name='value'))"
   ]
  },
  {
   "cell_type": "markdown",
   "metadata": {},
   "source": [
    "# Get Data"
   ]
  },
  {
   "cell_type": "markdown",
   "metadata": {},
   "source": [
    "There are some intermediate steps hidden here, that for now will be left missing."
   ]
  },
  {
   "cell_type": "code",
   "execution_count": 30,
   "metadata": {},
   "outputs": [],
   "source": [
    "DATA_PATH = '../data/extracted'"
   ]
  },
  {
   "cell_type": "code",
   "execution_count": 31,
   "metadata": {},
   "outputs": [],
   "source": [
    "data = pd.read_csv(os.path.join(DATA_PATH, \"FordA_TRAIN.csv.gz\"))\n",
    "data = data.iloc[:, :-1]"
   ]
  },
  {
   "cell_type": "markdown",
   "metadata": {},
   "source": [
    "# First inspection"
   ]
  },
  {
   "cell_type": "code",
   "execution_count": 9,
   "metadata": {},
   "outputs": [
    {
     "data": {
      "text/html": [
       "<div>\n",
       "<style scoped>\n",
       "    .dataframe tbody tr th:only-of-type {\n",
       "        vertical-align: middle;\n",
       "    }\n",
       "\n",
       "    .dataframe tbody tr th {\n",
       "        vertical-align: top;\n",
       "    }\n",
       "\n",
       "    .dataframe thead th {\n",
       "        text-align: right;\n",
       "    }\n",
       "</style>\n",
       "<table border=\"1\" class=\"dataframe\">\n",
       "  <thead>\n",
       "    <tr style=\"text-align: right;\">\n",
       "      <th></th>\n",
       "      <th>class</th>\n",
       "      <th>0</th>\n",
       "      <th>1</th>\n",
       "      <th>2</th>\n",
       "      <th>3</th>\n",
       "      <th>4</th>\n",
       "      <th>5</th>\n",
       "      <th>6</th>\n",
       "      <th>7</th>\n",
       "      <th>8</th>\n",
       "      <th>...</th>\n",
       "      <th>490</th>\n",
       "      <th>491</th>\n",
       "      <th>492</th>\n",
       "      <th>493</th>\n",
       "      <th>494</th>\n",
       "      <th>495</th>\n",
       "      <th>496</th>\n",
       "      <th>497</th>\n",
       "      <th>498</th>\n",
       "      <th>499</th>\n",
       "    </tr>\n",
       "  </thead>\n",
       "  <tbody>\n",
       "    <tr>\n",
       "      <th>0</th>\n",
       "      <td>-1.0</td>\n",
       "      <td>-0.797172</td>\n",
       "      <td>-0.664392</td>\n",
       "      <td>-0.373015</td>\n",
       "      <td>0.040815</td>\n",
       "      <td>0.526936</td>\n",
       "      <td>0.984288</td>\n",
       "      <td>1.353120</td>\n",
       "      <td>1.578108</td>\n",
       "      <td>1.659251</td>\n",
       "      <td>...</td>\n",
       "      <td>1.120756</td>\n",
       "      <td>0.722417</td>\n",
       "      <td>0.362068</td>\n",
       "      <td>0.092083</td>\n",
       "      <td>-0.081268</td>\n",
       "      <td>-0.212573</td>\n",
       "      <td>-0.391456</td>\n",
       "      <td>-0.664392</td>\n",
       "      <td>-1.073796</td>\n",
       "      <td>-1.564343</td>\n",
       "    </tr>\n",
       "    <tr>\n",
       "      <th>1</th>\n",
       "      <td>1.0</td>\n",
       "      <td>0.804855</td>\n",
       "      <td>0.634629</td>\n",
       "      <td>0.373474</td>\n",
       "      <td>0.038343</td>\n",
       "      <td>-0.340988</td>\n",
       "      <td>-0.740860</td>\n",
       "      <td>-1.109667</td>\n",
       "      <td>-1.395357</td>\n",
       "      <td>-1.570192</td>\n",
       "      <td>...</td>\n",
       "      <td>0.386403</td>\n",
       "      <td>0.049213</td>\n",
       "      <td>-0.258138</td>\n",
       "      <td>-0.510583</td>\n",
       "      <td>-0.683647</td>\n",
       "      <td>-0.773817</td>\n",
       "      <td>-0.785255</td>\n",
       "      <td>-0.714885</td>\n",
       "      <td>-0.560443</td>\n",
       "      <td>-0.319086</td>\n",
       "    </tr>\n",
       "    <tr>\n",
       "      <th>2</th>\n",
       "      <td>-1.0</td>\n",
       "      <td>0.727985</td>\n",
       "      <td>0.111284</td>\n",
       "      <td>-0.499124</td>\n",
       "      <td>-1.068629</td>\n",
       "      <td>-1.578351</td>\n",
       "      <td>-1.990534</td>\n",
       "      <td>-2.302031</td>\n",
       "      <td>-2.503403</td>\n",
       "      <td>-2.585211</td>\n",
       "      <td>...</td>\n",
       "      <td>0.394463</td>\n",
       "      <td>0.463685</td>\n",
       "      <td>0.507735</td>\n",
       "      <td>0.517174</td>\n",
       "      <td>0.504588</td>\n",
       "      <td>0.476270</td>\n",
       "      <td>0.438513</td>\n",
       "      <td>0.394463</td>\n",
       "      <td>0.339400</td>\n",
       "      <td>0.255391</td>\n",
       "    </tr>\n",
       "    <tr>\n",
       "      <th>3</th>\n",
       "      <td>-1.0</td>\n",
       "      <td>-0.234439</td>\n",
       "      <td>-0.502157</td>\n",
       "      <td>-0.732488</td>\n",
       "      <td>-0.946128</td>\n",
       "      <td>-1.139739</td>\n",
       "      <td>-1.323336</td>\n",
       "      <td>-1.490243</td>\n",
       "      <td>-1.607077</td>\n",
       "      <td>-1.620430</td>\n",
       "      <td>...</td>\n",
       "      <td>-0.952804</td>\n",
       "      <td>-0.929437</td>\n",
       "      <td>-0.922761</td>\n",
       "      <td>-0.929437</td>\n",
       "      <td>-0.909409</td>\n",
       "      <td>-0.835970</td>\n",
       "      <td>-0.695768</td>\n",
       "      <td>-0.478790</td>\n",
       "      <td>-0.188707</td>\n",
       "      <td>0.119736</td>\n",
       "    </tr>\n",
       "    <tr>\n",
       "      <th>4</th>\n",
       "      <td>-1.0</td>\n",
       "      <td>-0.171328</td>\n",
       "      <td>-0.062285</td>\n",
       "      <td>0.235829</td>\n",
       "      <td>0.710396</td>\n",
       "      <td>1.239969</td>\n",
       "      <td>1.649823</td>\n",
       "      <td>1.876321</td>\n",
       "      <td>1.865535</td>\n",
       "      <td>1.703751</td>\n",
       "      <td>...</td>\n",
       "      <td>0.776188</td>\n",
       "      <td>0.725496</td>\n",
       "      <td>0.697453</td>\n",
       "      <td>0.731967</td>\n",
       "      <td>0.808545</td>\n",
       "      <td>0.839823</td>\n",
       "      <td>0.733046</td>\n",
       "      <td>0.437520</td>\n",
       "      <td>-0.026585</td>\n",
       "      <td>-0.602213</td>\n",
       "    </tr>\n",
       "  </tbody>\n",
       "</table>\n",
       "<p>5 rows × 501 columns</p>\n",
       "</div>"
      ],
      "text/plain": [
       "   class         0         1         2         3         4         5  \\\n",
       "0   -1.0 -0.797172 -0.664392 -0.373015  0.040815  0.526936  0.984288   \n",
       "1    1.0  0.804855  0.634629  0.373474  0.038343 -0.340988 -0.740860   \n",
       "2   -1.0  0.727985  0.111284 -0.499124 -1.068629 -1.578351 -1.990534   \n",
       "3   -1.0 -0.234439 -0.502157 -0.732488 -0.946128 -1.139739 -1.323336   \n",
       "4   -1.0 -0.171328 -0.062285  0.235829  0.710396  1.239969  1.649823   \n",
       "\n",
       "          6         7         8  ...       490       491       492       493  \\\n",
       "0  1.353120  1.578108  1.659251  ...  1.120756  0.722417  0.362068  0.092083   \n",
       "1 -1.109667 -1.395357 -1.570192  ...  0.386403  0.049213 -0.258138 -0.510583   \n",
       "2 -2.302031 -2.503403 -2.585211  ...  0.394463  0.463685  0.507735  0.517174   \n",
       "3 -1.490243 -1.607077 -1.620430  ... -0.952804 -0.929437 -0.922761 -0.929437   \n",
       "4  1.876321  1.865535  1.703751  ...  0.776188  0.725496  0.697453  0.731967   \n",
       "\n",
       "        494       495       496       497       498       499  \n",
       "0 -0.081268 -0.212573 -0.391456 -0.664392 -1.073796 -1.564343  \n",
       "1 -0.683647 -0.773817 -0.785255 -0.714885 -0.560443 -0.319086  \n",
       "2  0.504588  0.476270  0.438513  0.394463  0.339400  0.255391  \n",
       "3 -0.909409 -0.835970 -0.695768 -0.478790 -0.188707  0.119736  \n",
       "4  0.808545  0.839823  0.733046  0.437520 -0.026585 -0.602213  \n",
       "\n",
       "[5 rows x 501 columns]"
      ]
     },
     "execution_count": 9,
     "metadata": {},
     "output_type": "execute_result"
    }
   ],
   "source": [
    "data.head()"
   ]
  },
  {
   "cell_type": "code",
   "execution_count": 10,
   "metadata": {},
   "outputs": [
    {
     "data": {
      "text/plain": [
       "(3601, 501)"
      ]
     },
     "execution_count": 10,
     "metadata": {},
     "output_type": "execute_result"
    }
   ],
   "source": [
    "data.shape"
   ]
  },
  {
   "cell_type": "code",
   "execution_count": 11,
   "metadata": {
    "scrolled": true
   },
   "outputs": [
    {
     "name": "stdout",
     "output_type": "stream",
     "text": [
      "<class 'pandas.core.frame.DataFrame'>\n",
      "RangeIndex: 3601 entries, 0 to 3600\n",
      "Columns: 501 entries, class to 499\n",
      "dtypes: float64(501)\n",
      "memory usage: 13.8 MB\n"
     ]
    }
   ],
   "source": [
    "data.info()"
   ]
  },
  {
   "cell_type": "markdown",
   "metadata": {},
   "source": [
    "Looking at the distribution per time series and some statistics for 20 random samples:"
   ]
  },
  {
   "cell_type": "code",
   "execution_count": 12,
   "metadata": {},
   "outputs": [],
   "source": [
    "rand_samples = np.random.choice(data.drop('class', axis=1).columns, 20, replace=False).astype(np.int64)"
   ]
  },
  {
   "cell_type": "code",
   "execution_count": 13,
   "metadata": {},
   "outputs": [
    {
     "data": {
      "text/html": [
       "<div>\n",
       "<style scoped>\n",
       "    .dataframe tbody tr th:only-of-type {\n",
       "        vertical-align: middle;\n",
       "    }\n",
       "\n",
       "    .dataframe tbody tr th {\n",
       "        vertical-align: top;\n",
       "    }\n",
       "\n",
       "    .dataframe thead th {\n",
       "        text-align: right;\n",
       "    }\n",
       "</style>\n",
       "<table border=\"1\" class=\"dataframe\">\n",
       "  <thead>\n",
       "    <tr style=\"text-align: right;\">\n",
       "      <th></th>\n",
       "      <th>229</th>\n",
       "      <th>337</th>\n",
       "      <th>327</th>\n",
       "      <th>416</th>\n",
       "      <th>306</th>\n",
       "      <th>131</th>\n",
       "      <th>5</th>\n",
       "      <th>431</th>\n",
       "      <th>434</th>\n",
       "      <th>134</th>\n",
       "      <th>276</th>\n",
       "      <th>264</th>\n",
       "      <th>34</th>\n",
       "      <th>274</th>\n",
       "      <th>489</th>\n",
       "      <th>11</th>\n",
       "      <th>378</th>\n",
       "      <th>467</th>\n",
       "      <th>425</th>\n",
       "      <th>241</th>\n",
       "    </tr>\n",
       "  </thead>\n",
       "  <tbody>\n",
       "    <tr>\n",
       "      <th>count</th>\n",
       "      <td>500.0000</td>\n",
       "      <td>500.0000</td>\n",
       "      <td>500.0000</td>\n",
       "      <td>500.0000</td>\n",
       "      <td>500.0000</td>\n",
       "      <td>500.0000</td>\n",
       "      <td>500.0000</td>\n",
       "      <td>500.0000</td>\n",
       "      <td>500.0000</td>\n",
       "      <td>500.0000</td>\n",
       "      <td>500.0000</td>\n",
       "      <td>500.0000</td>\n",
       "      <td>500.0000</td>\n",
       "      <td>500.0000</td>\n",
       "      <td>500.0000</td>\n",
       "      <td>500.0000</td>\n",
       "      <td>500.0000</td>\n",
       "      <td>500.0000</td>\n",
       "      <td>500.0000</td>\n",
       "      <td>500.0000</td>\n",
       "    </tr>\n",
       "    <tr>\n",
       "      <th>mean</th>\n",
       "      <td>0.0000</td>\n",
       "      <td>0.0000</td>\n",
       "      <td>-0.0000</td>\n",
       "      <td>-0.0000</td>\n",
       "      <td>-0.0000</td>\n",
       "      <td>-0.0000</td>\n",
       "      <td>0.0000</td>\n",
       "      <td>-0.0000</td>\n",
       "      <td>-0.0000</td>\n",
       "      <td>0.0000</td>\n",
       "      <td>-0.0000</td>\n",
       "      <td>0.0000</td>\n",
       "      <td>0.0000</td>\n",
       "      <td>0.0000</td>\n",
       "      <td>0.0000</td>\n",
       "      <td>-0.0000</td>\n",
       "      <td>0.0000</td>\n",
       "      <td>-0.0000</td>\n",
       "      <td>-0.0000</td>\n",
       "      <td>-0.0000</td>\n",
       "    </tr>\n",
       "    <tr>\n",
       "      <th>std</th>\n",
       "      <td>1.0000</td>\n",
       "      <td>1.0000</td>\n",
       "      <td>1.0000</td>\n",
       "      <td>1.0000</td>\n",
       "      <td>1.0000</td>\n",
       "      <td>1.0000</td>\n",
       "      <td>1.0000</td>\n",
       "      <td>1.0000</td>\n",
       "      <td>1.0000</td>\n",
       "      <td>1.0000</td>\n",
       "      <td>1.0000</td>\n",
       "      <td>1.0000</td>\n",
       "      <td>1.0000</td>\n",
       "      <td>1.0000</td>\n",
       "      <td>1.0000</td>\n",
       "      <td>1.0000</td>\n",
       "      <td>1.0000</td>\n",
       "      <td>1.0000</td>\n",
       "      <td>1.0000</td>\n",
       "      <td>1.0000</td>\n",
       "    </tr>\n",
       "    <tr>\n",
       "      <th>min</th>\n",
       "      <td>-2.8641</td>\n",
       "      <td>-2.6380</td>\n",
       "      <td>-2.7438</td>\n",
       "      <td>-2.3378</td>\n",
       "      <td>-2.2444</td>\n",
       "      <td>-2.3889</td>\n",
       "      <td>-2.9151</td>\n",
       "      <td>-2.8896</td>\n",
       "      <td>-2.7522</td>\n",
       "      <td>-3.0703</td>\n",
       "      <td>-2.8491</td>\n",
       "      <td>-2.1923</td>\n",
       "      <td>-2.7256</td>\n",
       "      <td>-2.4706</td>\n",
       "      <td>-2.2997</td>\n",
       "      <td>-2.4740</td>\n",
       "      <td>-2.9423</td>\n",
       "      <td>-2.9705</td>\n",
       "      <td>-2.7223</td>\n",
       "      <td>-2.9208</td>\n",
       "    </tr>\n",
       "    <tr>\n",
       "      <th>25%</th>\n",
       "      <td>-0.6133</td>\n",
       "      <td>-0.7421</td>\n",
       "      <td>-0.6525</td>\n",
       "      <td>-0.6888</td>\n",
       "      <td>-0.8097</td>\n",
       "      <td>-0.7287</td>\n",
       "      <td>-0.6099</td>\n",
       "      <td>-0.6555</td>\n",
       "      <td>-0.6868</td>\n",
       "      <td>-0.5734</td>\n",
       "      <td>-0.6374</td>\n",
       "      <td>-0.7313</td>\n",
       "      <td>-0.5959</td>\n",
       "      <td>-0.7414</td>\n",
       "      <td>-0.6726</td>\n",
       "      <td>-0.7214</td>\n",
       "      <td>-0.7889</td>\n",
       "      <td>-0.7264</td>\n",
       "      <td>-0.7565</td>\n",
       "      <td>-0.6618</td>\n",
       "    </tr>\n",
       "    <tr>\n",
       "      <th>50%</th>\n",
       "      <td>0.0303</td>\n",
       "      <td>0.0392</td>\n",
       "      <td>0.0182</td>\n",
       "      <td>-0.0400</td>\n",
       "      <td>-0.0303</td>\n",
       "      <td>0.0156</td>\n",
       "      <td>-0.0159</td>\n",
       "      <td>-0.0090</td>\n",
       "      <td>-0.0480</td>\n",
       "      <td>-0.0011</td>\n",
       "      <td>0.0115</td>\n",
       "      <td>-0.0811</td>\n",
       "      <td>0.0047</td>\n",
       "      <td>-0.0700</td>\n",
       "      <td>0.0122</td>\n",
       "      <td>0.0842</td>\n",
       "      <td>0.0142</td>\n",
       "      <td>0.0567</td>\n",
       "      <td>-0.0091</td>\n",
       "      <td>-0.0738</td>\n",
       "    </tr>\n",
       "    <tr>\n",
       "      <th>75%</th>\n",
       "      <td>0.6035</td>\n",
       "      <td>0.7164</td>\n",
       "      <td>0.6762</td>\n",
       "      <td>0.7614</td>\n",
       "      <td>0.7994</td>\n",
       "      <td>0.7222</td>\n",
       "      <td>0.7117</td>\n",
       "      <td>0.7253</td>\n",
       "      <td>0.6902</td>\n",
       "      <td>0.6414</td>\n",
       "      <td>0.6250</td>\n",
       "      <td>0.7885</td>\n",
       "      <td>0.5081</td>\n",
       "      <td>0.7446</td>\n",
       "      <td>0.7052</td>\n",
       "      <td>0.7322</td>\n",
       "      <td>0.8170</td>\n",
       "      <td>0.6477</td>\n",
       "      <td>0.7007</td>\n",
       "      <td>0.6926</td>\n",
       "    </tr>\n",
       "    <tr>\n",
       "      <th>max</th>\n",
       "      <td>3.3097</td>\n",
       "      <td>2.4817</td>\n",
       "      <td>2.7518</td>\n",
       "      <td>2.6318</td>\n",
       "      <td>2.1216</td>\n",
       "      <td>2.4745</td>\n",
       "      <td>2.6409</td>\n",
       "      <td>2.3659</td>\n",
       "      <td>2.7259</td>\n",
       "      <td>2.4078</td>\n",
       "      <td>3.0565</td>\n",
       "      <td>2.3932</td>\n",
       "      <td>3.2520</td>\n",
       "      <td>2.6191</td>\n",
       "      <td>2.7252</td>\n",
       "      <td>2.8135</td>\n",
       "      <td>2.0298</td>\n",
       "      <td>2.3556</td>\n",
       "      <td>2.7359</td>\n",
       "      <td>2.2830</td>\n",
       "    </tr>\n",
       "  </tbody>\n",
       "</table>\n",
       "</div>"
      ],
      "text/plain": [
       "            229       337       327       416       306       131       5    \\\n",
       "count  500.0000  500.0000  500.0000  500.0000  500.0000  500.0000  500.0000   \n",
       "mean     0.0000    0.0000   -0.0000   -0.0000   -0.0000   -0.0000    0.0000   \n",
       "std      1.0000    1.0000    1.0000    1.0000    1.0000    1.0000    1.0000   \n",
       "min     -2.8641   -2.6380   -2.7438   -2.3378   -2.2444   -2.3889   -2.9151   \n",
       "25%     -0.6133   -0.7421   -0.6525   -0.6888   -0.8097   -0.7287   -0.6099   \n",
       "50%      0.0303    0.0392    0.0182   -0.0400   -0.0303    0.0156   -0.0159   \n",
       "75%      0.6035    0.7164    0.6762    0.7614    0.7994    0.7222    0.7117   \n",
       "max      3.3097    2.4817    2.7518    2.6318    2.1216    2.4745    2.6409   \n",
       "\n",
       "            431       434       134       276       264       34        274  \\\n",
       "count  500.0000  500.0000  500.0000  500.0000  500.0000  500.0000  500.0000   \n",
       "mean    -0.0000   -0.0000    0.0000   -0.0000    0.0000    0.0000    0.0000   \n",
       "std      1.0000    1.0000    1.0000    1.0000    1.0000    1.0000    1.0000   \n",
       "min     -2.8896   -2.7522   -3.0703   -2.8491   -2.1923   -2.7256   -2.4706   \n",
       "25%     -0.6555   -0.6868   -0.5734   -0.6374   -0.7313   -0.5959   -0.7414   \n",
       "50%     -0.0090   -0.0480   -0.0011    0.0115   -0.0811    0.0047   -0.0700   \n",
       "75%      0.7253    0.6902    0.6414    0.6250    0.7885    0.5081    0.7446   \n",
       "max      2.3659    2.7259    2.4078    3.0565    2.3932    3.2520    2.6191   \n",
       "\n",
       "            489       11        378       467       425       241  \n",
       "count  500.0000  500.0000  500.0000  500.0000  500.0000  500.0000  \n",
       "mean     0.0000   -0.0000    0.0000   -0.0000   -0.0000   -0.0000  \n",
       "std      1.0000    1.0000    1.0000    1.0000    1.0000    1.0000  \n",
       "min     -2.2997   -2.4740   -2.9423   -2.9705   -2.7223   -2.9208  \n",
       "25%     -0.6726   -0.7214   -0.7889   -0.7264   -0.7565   -0.6618  \n",
       "50%      0.0122    0.0842    0.0142    0.0567   -0.0091   -0.0738  \n",
       "75%      0.7052    0.7322    0.8170    0.6477    0.7007    0.6926  \n",
       "max      2.7252    2.8135    2.0298    2.3556    2.7359    2.2830  "
      ]
     },
     "execution_count": 13,
     "metadata": {},
     "output_type": "execute_result"
    }
   ],
   "source": [
    "data.drop('class', axis=1).T.loc[:, rand_samples].describe().applymap(lambda x: format(x, '.4f'))"
   ]
  },
  {
   "cell_type": "code",
   "execution_count": 14,
   "metadata": {},
   "outputs": [
    {
     "data": {
      "image/png": "[encoded data removed]",
      "text/plain": [
       "<Figure size 1080x864 with 20 Axes>"
      ]
     },
     "metadata": {},
     "output_type": "display_data"
    }
   ],
   "source": [
    "axs = data.drop('class', axis=1).T.loc[:, rand_samples].hist(figsize=(15, 12), layout=(5,4))\n",
    "plt.tight_layout()\n",
    "plt.show()"
   ]
  },
  {
   "cell_type": "markdown",
   "metadata": {},
   "source": [
    "1. Descriptive statistics suggest has been previously standard scaled (mean=0 and standard deviaton = 1). This woudl explain why the data appears to range between -3 and 3.\n",
    "2. Nonetheless, distribution of data for some observations is not normal."
   ]
  },
  {
   "cell_type": "markdown",
   "metadata": {},
   "source": [
    "# Split into training and testing\n",
    "\n",
    "Before digging deeper, let's split data into training and testing to avoid leaking information in any way.\n",
    "\n",
    "- `data` -> constains all sensor data\n",
    "- `data_x` -> contains index of sensor data\n",
    "- `data_y` -> contains class of data"
   ]
  },
  {
   "cell_type": "code",
   "execution_count": 68,
   "metadata": {},
   "outputs": [],
   "source": [
    "from sktime.utils.data_container import detabularize"
   ]
  },
  {
   "cell_type": "code",
   "execution_count": 61,
   "metadata": {},
   "outputs": [
    {
     "data": {
      "text/html": [
       "<div>\n",
       "<style scoped>\n",
       "    .dataframe tbody tr th:only-of-type {\n",
       "        vertical-align: middle;\n",
       "    }\n",
       "\n",
       "    .dataframe tbody tr th {\n",
       "        vertical-align: top;\n",
       "    }\n",
       "\n",
       "    .dataframe thead th {\n",
       "        text-align: right;\n",
       "    }\n",
       "</style>\n",
       "<table border=\"1\" class=\"dataframe\">\n",
       "  <thead>\n",
       "    <tr style=\"text-align: right;\">\n",
       "      <th></th>\n",
       "      <th>class</th>\n",
       "      <th>0</th>\n",
       "      <th>1</th>\n",
       "      <th>2</th>\n",
       "      <th>3</th>\n",
       "      <th>4</th>\n",
       "      <th>5</th>\n",
       "      <th>6</th>\n",
       "      <th>7</th>\n",
       "      <th>8</th>\n",
       "      <th>...</th>\n",
       "      <th>490</th>\n",
       "      <th>491</th>\n",
       "      <th>492</th>\n",
       "      <th>493</th>\n",
       "      <th>494</th>\n",
       "      <th>495</th>\n",
       "      <th>496</th>\n",
       "      <th>497</th>\n",
       "      <th>498</th>\n",
       "      <th>499</th>\n",
       "    </tr>\n",
       "  </thead>\n",
       "  <tbody>\n",
       "    <tr>\n",
       "      <th>0</th>\n",
       "      <td>-1.0</td>\n",
       "      <td>-0.797172</td>\n",
       "      <td>-0.664392</td>\n",
       "      <td>-0.373015</td>\n",
       "      <td>0.040815</td>\n",
       "      <td>0.526936</td>\n",
       "      <td>0.984288</td>\n",
       "      <td>1.353120</td>\n",
       "      <td>1.578108</td>\n",
       "      <td>1.659251</td>\n",
       "      <td>...</td>\n",
       "      <td>1.120756</td>\n",
       "      <td>0.722417</td>\n",
       "      <td>0.362068</td>\n",
       "      <td>0.092083</td>\n",
       "      <td>-0.081268</td>\n",
       "      <td>-0.212573</td>\n",
       "      <td>-0.391456</td>\n",
       "      <td>-0.664392</td>\n",
       "      <td>-1.073796</td>\n",
       "      <td>-1.564343</td>\n",
       "    </tr>\n",
       "    <tr>\n",
       "      <th>1</th>\n",
       "      <td>1.0</td>\n",
       "      <td>0.804855</td>\n",
       "      <td>0.634629</td>\n",
       "      <td>0.373474</td>\n",
       "      <td>0.038343</td>\n",
       "      <td>-0.340988</td>\n",
       "      <td>-0.740860</td>\n",
       "      <td>-1.109667</td>\n",
       "      <td>-1.395357</td>\n",
       "      <td>-1.570192</td>\n",
       "      <td>...</td>\n",
       "      <td>0.386403</td>\n",
       "      <td>0.049213</td>\n",
       "      <td>-0.258138</td>\n",
       "      <td>-0.510583</td>\n",
       "      <td>-0.683647</td>\n",
       "      <td>-0.773817</td>\n",
       "      <td>-0.785255</td>\n",
       "      <td>-0.714885</td>\n",
       "      <td>-0.560443</td>\n",
       "      <td>-0.319086</td>\n",
       "    </tr>\n",
       "    <tr>\n",
       "      <th>2</th>\n",
       "      <td>-1.0</td>\n",
       "      <td>0.727985</td>\n",
       "      <td>0.111284</td>\n",
       "      <td>-0.499124</td>\n",
       "      <td>-1.068629</td>\n",
       "      <td>-1.578351</td>\n",
       "      <td>-1.990534</td>\n",
       "      <td>-2.302031</td>\n",
       "      <td>-2.503403</td>\n",
       "      <td>-2.585211</td>\n",
       "      <td>...</td>\n",
       "      <td>0.394463</td>\n",
       "      <td>0.463685</td>\n",
       "      <td>0.507735</td>\n",
       "      <td>0.517174</td>\n",
       "      <td>0.504588</td>\n",
       "      <td>0.476270</td>\n",
       "      <td>0.438513</td>\n",
       "      <td>0.394463</td>\n",
       "      <td>0.339400</td>\n",
       "      <td>0.255391</td>\n",
       "    </tr>\n",
       "    <tr>\n",
       "      <th>3</th>\n",
       "      <td>-1.0</td>\n",
       "      <td>-0.234439</td>\n",
       "      <td>-0.502157</td>\n",
       "      <td>-0.732488</td>\n",
       "      <td>-0.946128</td>\n",
       "      <td>-1.139739</td>\n",
       "      <td>-1.323336</td>\n",
       "      <td>-1.490243</td>\n",
       "      <td>-1.607077</td>\n",
       "      <td>-1.620430</td>\n",
       "      <td>...</td>\n",
       "      <td>-0.952804</td>\n",
       "      <td>-0.929437</td>\n",
       "      <td>-0.922761</td>\n",
       "      <td>-0.929437</td>\n",
       "      <td>-0.909409</td>\n",
       "      <td>-0.835970</td>\n",
       "      <td>-0.695768</td>\n",
       "      <td>-0.478790</td>\n",
       "      <td>-0.188707</td>\n",
       "      <td>0.119736</td>\n",
       "    </tr>\n",
       "    <tr>\n",
       "      <th>4</th>\n",
       "      <td>-1.0</td>\n",
       "      <td>-0.171328</td>\n",
       "      <td>-0.062285</td>\n",
       "      <td>0.235829</td>\n",
       "      <td>0.710396</td>\n",
       "      <td>1.239969</td>\n",
       "      <td>1.649823</td>\n",
       "      <td>1.876321</td>\n",
       "      <td>1.865535</td>\n",
       "      <td>1.703751</td>\n",
       "      <td>...</td>\n",
       "      <td>0.776188</td>\n",
       "      <td>0.725496</td>\n",
       "      <td>0.697453</td>\n",
       "      <td>0.731967</td>\n",
       "      <td>0.808545</td>\n",
       "      <td>0.839823</td>\n",
       "      <td>0.733046</td>\n",
       "      <td>0.437520</td>\n",
       "      <td>-0.026585</td>\n",
       "      <td>-0.602213</td>\n",
       "    </tr>\n",
       "  </tbody>\n",
       "</table>\n",
       "<p>5 rows × 501 columns</p>\n",
       "</div>"
      ],
      "text/plain": [
       "   class         0         1         2         3         4         5  \\\n",
       "0   -1.0 -0.797172 -0.664392 -0.373015  0.040815  0.526936  0.984288   \n",
       "1    1.0  0.804855  0.634629  0.373474  0.038343 -0.340988 -0.740860   \n",
       "2   -1.0  0.727985  0.111284 -0.499124 -1.068629 -1.578351 -1.990534   \n",
       "3   -1.0 -0.234439 -0.502157 -0.732488 -0.946128 -1.139739 -1.323336   \n",
       "4   -1.0 -0.171328 -0.062285  0.235829  0.710396  1.239969  1.649823   \n",
       "\n",
       "          6         7         8  ...       490       491       492       493  \\\n",
       "0  1.353120  1.578108  1.659251  ...  1.120756  0.722417  0.362068  0.092083   \n",
       "1 -1.109667 -1.395357 -1.570192  ...  0.386403  0.049213 -0.258138 -0.510583   \n",
       "2 -2.302031 -2.503403 -2.585211  ...  0.394463  0.463685  0.507735  0.517174   \n",
       "3 -1.490243 -1.607077 -1.620430  ... -0.952804 -0.929437 -0.922761 -0.929437   \n",
       "4  1.876321  1.865535  1.703751  ...  0.776188  0.725496  0.697453  0.731967   \n",
       "\n",
       "        494       495       496       497       498       499  \n",
       "0 -0.081268 -0.212573 -0.391456 -0.664392 -1.073796 -1.564343  \n",
       "1 -0.683647 -0.773817 -0.785255 -0.714885 -0.560443 -0.319086  \n",
       "2  0.504588  0.476270  0.438513  0.394463  0.339400  0.255391  \n",
       "3 -0.909409 -0.835970 -0.695768 -0.478790 -0.188707  0.119736  \n",
       "4  0.808545  0.839823  0.733046  0.437520 -0.026585 -0.602213  \n",
       "\n",
       "[5 rows x 501 columns]"
      ]
     },
     "execution_count": 61,
     "metadata": {},
     "output_type": "execute_result"
    }
   ],
   "source": [
    "data.head()"
   ]
  },
  {
   "cell_type": "code",
   "execution_count": 62,
   "metadata": {},
   "outputs": [],
   "source": [
    "X = detabularize(data.drop('class', axis=1))#.head(n=100)\n",
    "y = data['class']#.head(n=100)"
   ]
  },
  {
   "cell_type": "code",
   "execution_count": 67,
   "metadata": {},
   "outputs": [],
   "source": [
    "train_X, test_X, train_y, test_y = \\\n",
    "    train_test_split(X, y, stratify=y, shuffle=True,\n",
    "                     random_state=SEED)"
   ]
  },
  {
   "cell_type": "markdown",
   "metadata": {},
   "source": [
    "# tsfresh\n",
    "\n",
    "`tsfresh`, Time Series FeatuRe Extraction on basis of Scalable Hypothesis tests, is a Python library useful for extracting and selecting features from timeseries data, essentially turning a timeseries with _t_ time points into _n_ features. It's built using Dask, a python library for parallel and distributed computing. This means you can distribute the tasks of extraction and selection across clusters for highly parallelized work, and that even in a single node, tasks can be sent to different cores for faster computations. This is particularly relevant because this library allows you to use its 72 feature calculations, according to their [lisf ot calculated features page](https://tsfresh.readthedocs.io/en/latest/text/list_of_features.html) at the time of creation of this notebook. These functions, depending on the settings, may yield hundreds of features for a single timeseries. Read more in their [docs page](https://tsfresh.readthedocs.io/en/latest/index.html).\n",
    "\n",
    "This is one of the approaches for solving the problem that will be displayed here: extracting relevant features from each time series as a whole.\n",
    "\n",
    "**Note** This library also allows for sliding window creation and computation, but this approach won't be presented in the current notebook."
   ]
  },
  {
   "cell_type": "markdown",
   "metadata": {},
   "source": [
    "Necessary imports (made here instead of header for proximity with code and easier check)"
   ]
  },
  {
   "cell_type": "code",
   "execution_count": 82,
   "metadata": {},
   "outputs": [],
   "source": [
    "from sktime.transformers.series_as_features.summarize import \\\n",
    "    TSFreshFeatureExtractor, TSFreshRelevantFeatureExtractor\n",
    "from sklearn.pipeline import Pipeline\n",
    "from sklearn.ensemble import RandomForestClassifier\n",
    "from sklearn.preprocessing import MaxAbsScaler\n",
    "from sklearn.decomposition import PCA\n",
    "from sklearn.metrics import confusion_matrix\n",
    "from sklearn.metrics import classification_report\n",
    "import joblib"
   ]
  },
  {
   "cell_type": "code",
   "execution_count": 71,
   "metadata": {},
   "outputs": [],
   "source": [
    "ts_augmenter_pipeline = Pipeline([\n",
    "    ('augmenter', TSFreshFeatureExtractor(default_fc_parameters='efficient',\n",
    "                                          show_warnings=False, n_jobs=NJOBS)),\n",
    "    ('scaler', MaxAbsScaler()),\n",
    "    ('reduce_dim', PCA(n_components=5)),\n",
    "    ('clf', RandomForestClassifier(n_jobs=NJOBS))\n",
    "], verbose=True)"
   ]
  },
  {
   "cell_type": "code",
   "execution_count": 72,
   "metadata": {
    "scrolled": true
   },
   "outputs": [
    {
     "name": "stderr",
     "output_type": "stream",
     "text": [
      "Feature Extraction: 100%|██████████| 15/15 [06:37<00:00, 26.47s/it]\n"
     ]
    },
    {
     "name": "stdout",
     "output_type": "stream",
     "text": [
      "[Pipeline] ......... (step 1 of 4) Processing augmenter, total= 6.9min\n",
      "[Pipeline] ............ (step 2 of 4) Processing scaler, total=   0.0s\n",
      "[Pipeline] ........ (step 3 of 4) Processing reduce_dim, total=   0.4s\n",
      "[Pipeline] ............... (step 4 of 4) Processing clf, total=   0.6s\n"
     ]
    },
    {
     "data": {
      "text/plain": [
       "Pipeline(steps=[('augmenter',\n",
       "                 TSFreshFeatureExtractor(n_jobs=3, show_warnings=False)),\n",
       "                ('scaler', MaxAbsScaler()), ('reduce_dim', PCA(n_components=5)),\n",
       "                ('clf', RandomForestClassifier(n_jobs=3))],\n",
       "         verbose=True)"
      ]
     },
     "execution_count": 72,
     "metadata": {},
     "output_type": "execute_result"
    }
   ],
   "source": [
    "ts_augmenter_pipeline.fit(train_X, train_y)"
   ]
  },
  {
   "cell_type": "code",
   "execution_count": 74,
   "metadata": {
    "scrolled": true
   },
   "outputs": [
    {
     "name": "stderr",
     "output_type": "stream",
     "text": [
      "Feature Extraction: 100%|██████████| 15/15 [02:12<00:00,  8.81s/it]\n"
     ]
    }
   ],
   "source": [
    "pred_y = ts_augmenter_pipeline.predict(test_X)"
   ]
  },
  {
   "cell_type": "code",
   "execution_count": 78,
   "metadata": {},
   "outputs": [
    {
     "data": {
      "image/png": "[encoded data removed]",
      "text/plain": [
       "<Figure size 432x288 with 2 Axes>"
      ]
     },
     "metadata": {},
     "output_type": "display_data"
    }
   ],
   "source": [
    "sns.heatmap(confusion_matrix(test_y, pred_y),\n",
    "            cmap='Blues', annot=True, fmt='.0f');"
   ]
  },
  {
   "cell_type": "code",
   "execution_count": 81,
   "metadata": {
    "scrolled": true
   },
   "outputs": [
    {
     "name": "stdout",
     "output_type": "stream",
     "text": [
      "              precision    recall  f1-score   support\n",
      "\n",
      "        -1.0       0.75      0.70      0.73       462\n",
      "         1.0       0.71      0.76      0.73       439\n",
      "\n",
      "    accuracy                           0.73       901\n",
      "   macro avg       0.73      0.73      0.73       901\n",
      "weighted avg       0.73      0.73      0.73       901\n",
      "\n"
     ]
    }
   ],
   "source": [
    "print(classification_report(test_y, pred_y))"
   ]
  },
  {
   "cell_type": "markdown",
   "metadata": {},
   "source": [
    "## Using the Relevant feature extractor"
   ]
  },
  {
   "cell_type": "code",
   "execution_count": 83,
   "metadata": {},
   "outputs": [],
   "source": [
    "ts_augmenter_pipeline02 = Pipeline([\n",
    "    ('augmenter', TSFreshRelevantFeatureExtractor(default_fc_parameters='efficient',\n",
    "                                                  show_warnings=False, n_jobs=NJOBS)),\n",
    "    ('scaler', MaxAbsScaler()),\n",
    "#     ('reduce_dim', PCA(n_components=5)),\n",
    "    ('clf', RandomForestClassifier(n_jobs=NJOBS))\n",
    "], verbose=True)"
   ]
  },
  {
   "cell_type": "code",
   "execution_count": 84,
   "metadata": {},
   "outputs": [
    {
     "name": "stderr",
     "output_type": "stream",
     "text": [
      "Feature Extraction: 100%|██████████| 15/15 [06:52<00:00, 27.47s/it]\n",
      "Feature Extraction: 100%|██████████| 15/15 [07:05<00:00, 28.39s/it]\n"
     ]
    },
    {
     "name": "stdout",
     "output_type": "stream",
     "text": [
      "[Pipeline] ......... (step 1 of 3) Processing augmenter, total=14.6min\n",
      "[Pipeline] ............ (step 2 of 3) Processing scaler, total=   0.0s\n",
      "[Pipeline] ............... (step 3 of 3) Processing clf, total=   0.8s\n"
     ]
    },
    {
     "data": {
      "text/plain": [
       "Pipeline(steps=[('augmenter',\n",
       "                 TSFreshRelevantFeatureExtractor(n_jobs=3,\n",
       "                                                 show_warnings=False)),\n",
       "                ('scaler', MaxAbsScaler()),\n",
       "                ('clf', RandomForestClassifier(n_jobs=3))],\n",
       "         verbose=True)"
      ]
     },
     "execution_count": 84,
     "metadata": {},
     "output_type": "execute_result"
    }
   ],
   "source": [
    "ts_augmenter_pipeline02.fit(train_X, train_y)"
   ]
  },
  {
   "cell_type": "code",
   "execution_count": 85,
   "metadata": {},
   "outputs": [
    {
     "name": "stderr",
     "output_type": "stream",
     "text": [
      "Feature Extraction: 100%|██████████| 15/15 [02:21<00:00,  9.41s/it]\n"
     ]
    }
   ],
   "source": [
    "pred_y = ts_augmenter_pipeline02.predict(test_X)"
   ]
  },
  {
   "cell_type": "code",
   "execution_count": 86,
   "metadata": {},
   "outputs": [
    {
     "data": {
      "image/png": "[encoded data removed]",
      "text/plain": [
       "<Figure size 432x288 with 2 Axes>"
      ]
     },
     "metadata": {},
     "output_type": "display_data"
    }
   ],
   "source": [
    "sns.heatmap(confusion_matrix(test_y, pred_y),\n",
    "            cmap='Blues', annot=True, fmt='.0f');"
   ]
  },
  {
   "cell_type": "code",
   "execution_count": 87,
   "metadata": {},
   "outputs": [
    {
     "name": "stdout",
     "output_type": "stream",
     "text": [
      "              precision    recall  f1-score   support\n",
      "\n",
      "        -1.0       1.00      1.00      1.00       462\n",
      "         1.0       1.00      1.00      1.00       439\n",
      "\n",
      "    accuracy                           1.00       901\n",
      "   macro avg       1.00      1.00      1.00       901\n",
      "weighted avg       1.00      1.00      1.00       901\n",
      "\n"
     ]
    }
   ],
   "source": [
    "print(classification_report(test_y, pred_y))"
   ]
  },
  {
   "cell_type": "code",
   "execution_count": null,
   "metadata": {},
   "outputs": [],
   "source": []
  },
  {
   "cell_type": "code",
   "execution_count": 6,
   "metadata": {},
   "outputs": [],
   "source": [
    "def melt(data):\n",
    "    data_melt = (data\n",
    "               .reset_index()\n",
    "               .melt(id_vars='index', var_name='ts', value_name='value')\n",
    "               .set_index(['index', 'ts']))\n",
    "    data_stacked = data_melt.reset_index()\n",
    "    return data_stacked\n",
    "\n",
    "def dataframe_with_index(data):\n",
    "    return pd.DataFrame(index=data.index)"
   ]
  },
  {
   "cell_type": "code",
   "execution_count": null,
   "metadata": {},
   "outputs": [],
   "source": []
  },
  {
   "cell_type": "markdown",
   "metadata": {},
   "source": [
    "## Run on REAL test data"
   ]
  },
  {
   "cell_type": "code",
   "execution_count": 90,
   "metadata": {},
   "outputs": [
    {
     "data": {
      "text/html": [
       "<div>\n",
       "<style scoped>\n",
       "    .dataframe tbody tr th:only-of-type {\n",
       "        vertical-align: middle;\n",
       "    }\n",
       "\n",
       "    .dataframe tbody tr th {\n",
       "        vertical-align: top;\n",
       "    }\n",
       "\n",
       "    .dataframe thead th {\n",
       "        text-align: right;\n",
       "    }\n",
       "</style>\n",
       "<table border=\"1\" class=\"dataframe\">\n",
       "  <thead>\n",
       "    <tr style=\"text-align: right;\">\n",
       "      <th></th>\n",
       "      <th>class</th>\n",
       "      <th>0</th>\n",
       "      <th>1</th>\n",
       "      <th>2</th>\n",
       "      <th>3</th>\n",
       "      <th>4</th>\n",
       "      <th>5</th>\n",
       "      <th>6</th>\n",
       "      <th>7</th>\n",
       "      <th>8</th>\n",
       "      <th>...</th>\n",
       "      <th>491</th>\n",
       "      <th>492</th>\n",
       "      <th>493</th>\n",
       "      <th>494</th>\n",
       "      <th>495</th>\n",
       "      <th>496</th>\n",
       "      <th>497</th>\n",
       "      <th>498</th>\n",
       "      <th>499</th>\n",
       "      <th>500</th>\n",
       "    </tr>\n",
       "  </thead>\n",
       "  <tbody>\n",
       "    <tr>\n",
       "      <th>0</th>\n",
       "      <td>-1.0</td>\n",
       "      <td>-0.140402</td>\n",
       "      <td>0.171641</td>\n",
       "      <td>0.302044</td>\n",
       "      <td>0.232804</td>\n",
       "      <td>0.033853</td>\n",
       "      <td>-0.224183</td>\n",
       "      <td>-0.469987</td>\n",
       "      <td>-0.645396</td>\n",
       "      <td>-0.617700</td>\n",
       "      <td>...</td>\n",
       "      <td>0.390903</td>\n",
       "      <td>0.974831</td>\n",
       "      <td>1.258717</td>\n",
       "      <td>1.143316</td>\n",
       "      <td>0.647092</td>\n",
       "      <td>-0.049582</td>\n",
       "      <td>-0.690402</td>\n",
       "      <td>-0.976596</td>\n",
       "      <td>-0.794263</td>\n",
       "      <td>NaN</td>\n",
       "    </tr>\n",
       "    <tr>\n",
       "      <th>1</th>\n",
       "      <td>-1.0</td>\n",
       "      <td>0.334038</td>\n",
       "      <td>0.322253</td>\n",
       "      <td>0.453844</td>\n",
       "      <td>0.671852</td>\n",
       "      <td>0.887897</td>\n",
       "      <td>1.020469</td>\n",
       "      <td>1.059750</td>\n",
       "      <td>1.030290</td>\n",
       "      <td>0.950746</td>\n",
       "      <td>...</td>\n",
       "      <td>-0.346502</td>\n",
       "      <td>-0.924912</td>\n",
       "      <td>-1.208716</td>\n",
       "      <td>-1.247996</td>\n",
       "      <td>-1.139974</td>\n",
       "      <td>-1.041772</td>\n",
       "      <td>-1.041772</td>\n",
       "      <td>-1.159614</td>\n",
       "      <td>-1.375659</td>\n",
       "      <td>NaN</td>\n",
       "    </tr>\n",
       "    <tr>\n",
       "      <th>2</th>\n",
       "      <td>-1.0</td>\n",
       "      <td>0.716686</td>\n",
       "      <td>0.744367</td>\n",
       "      <td>0.725913</td>\n",
       "      <td>0.661325</td>\n",
       "      <td>0.555217</td>\n",
       "      <td>0.413585</td>\n",
       "      <td>0.246580</td>\n",
       "      <td>0.065273</td>\n",
       "      <td>-0.121109</td>\n",
       "      <td>...</td>\n",
       "      <td>2.276019</td>\n",
       "      <td>1.219548</td>\n",
       "      <td>0.081881</td>\n",
       "      <td>-1.050250</td>\n",
       "      <td>-2.092881</td>\n",
       "      <td>-2.983269</td>\n",
       "      <td>-3.675281</td>\n",
       "      <td>-4.136622</td>\n",
       "      <td>-4.339612</td>\n",
       "      <td>NaN</td>\n",
       "    </tr>\n",
       "    <tr>\n",
       "      <th>3</th>\n",
       "      <td>1.0</td>\n",
       "      <td>1.240283</td>\n",
       "      <td>1.331189</td>\n",
       "      <td>1.386596</td>\n",
       "      <td>1.383220</td>\n",
       "      <td>1.305979</td>\n",
       "      <td>1.142784</td>\n",
       "      <td>0.878613</td>\n",
       "      <td>0.532291</td>\n",
       "      <td>0.140025</td>\n",
       "      <td>...</td>\n",
       "      <td>-1.124551</td>\n",
       "      <td>-1.302011</td>\n",
       "      <td>-1.340564</td>\n",
       "      <td>-1.271440</td>\n",
       "      <td>-1.146352</td>\n",
       "      <td>-1.011328</td>\n",
       "      <td>-0.931222</td>\n",
       "      <td>-0.934498</td>\n",
       "      <td>-1.001288</td>\n",
       "      <td>NaN</td>\n",
       "    </tr>\n",
       "    <tr>\n",
       "      <th>4</th>\n",
       "      <td>-1.0</td>\n",
       "      <td>-1.159478</td>\n",
       "      <td>-1.204174</td>\n",
       "      <td>-1.167605</td>\n",
       "      <td>-1.033518</td>\n",
       "      <td>-0.818166</td>\n",
       "      <td>-0.558119</td>\n",
       "      <td>-0.299291</td>\n",
       "      <td>-0.093691</td>\n",
       "      <td>0.022770</td>\n",
       "      <td>...</td>\n",
       "      <td>0.441438</td>\n",
       "      <td>0.206176</td>\n",
       "      <td>-0.006941</td>\n",
       "      <td>-0.146919</td>\n",
       "      <td>-0.183082</td>\n",
       "      <td>-0.112382</td>\n",
       "      <td>0.008987</td>\n",
       "      <td>0.131413</td>\n",
       "      <td>0.186266</td>\n",
       "      <td>NaN</td>\n",
       "    </tr>\n",
       "  </tbody>\n",
       "</table>\n",
       "<p>5 rows × 502 columns</p>\n",
       "</div>"
      ],
      "text/plain": [
       "   class         0         1         2         3         4         5  \\\n",
       "0   -1.0 -0.140402  0.171641  0.302044  0.232804  0.033853 -0.224183   \n",
       "1   -1.0  0.334038  0.322253  0.453844  0.671852  0.887897  1.020469   \n",
       "2   -1.0  0.716686  0.744367  0.725913  0.661325  0.555217  0.413585   \n",
       "3    1.0  1.240283  1.331189  1.386596  1.383220  1.305979  1.142784   \n",
       "4   -1.0 -1.159478 -1.204174 -1.167605 -1.033518 -0.818166 -0.558119   \n",
       "\n",
       "          6         7         8  ...       491       492       493       494  \\\n",
       "0 -0.469987 -0.645396 -0.617700  ...  0.390903  0.974831  1.258717  1.143316   \n",
       "1  1.059750  1.030290  0.950746  ... -0.346502 -0.924912 -1.208716 -1.247996   \n",
       "2  0.246580  0.065273 -0.121109  ...  2.276019  1.219548  0.081881 -1.050250   \n",
       "3  0.878613  0.532291  0.140025  ... -1.124551 -1.302011 -1.340564 -1.271440   \n",
       "4 -0.299291 -0.093691  0.022770  ...  0.441438  0.206176 -0.006941 -0.146919   \n",
       "\n",
       "        495       496       497       498       499  500  \n",
       "0  0.647092 -0.049582 -0.690402 -0.976596 -0.794263  NaN  \n",
       "1 -1.139974 -1.041772 -1.041772 -1.159614 -1.375659  NaN  \n",
       "2 -2.092881 -2.983269 -3.675281 -4.136622 -4.339612  NaN  \n",
       "3 -1.146352 -1.011328 -0.931222 -0.934498 -1.001288  NaN  \n",
       "4 -0.183082 -0.112382  0.008987  0.131413  0.186266  NaN  \n",
       "\n",
       "[5 rows x 502 columns]"
      ]
     },
     "execution_count": 90,
     "metadata": {},
     "output_type": "execute_result"
    }
   ],
   "source": [
    "test_data = pd.read_csv('../data/extracted/FordA_TEST.csv.gz')\n",
    "test_data.head()"
   ]
  },
  {
   "cell_type": "markdown",
   "metadata": {},
   "source": [
    "### Check for duplicated data with training"
   ]
  },
  {
   "cell_type": "code",
   "execution_count": 113,
   "metadata": {},
   "outputs": [],
   "source": [
    "merged_data = pd.concat([data, test_data.iloc[:, :-1]])\n",
    "assert merged_data.duplicated().sum() == 0"
   ]
  },
  {
   "cell_type": "code",
   "execution_count": 111,
   "metadata": {},
   "outputs": [
    {
     "data": {
      "text/plain": [
       "0"
      ]
     },
     "execution_count": 111,
     "metadata": {},
     "output_type": "execute_result"
    }
   ],
   "source": [
    "test_data.duplicated().sum()"
   ]
  },
  {
   "cell_type": "code",
   "execution_count": 95,
   "metadata": {},
   "outputs": [],
   "source": [
    "test_features = detabularize(test_data.drop(['class', '500'], axis=1))\n",
    "test_target = test_data['class'].values"
   ]
  },
  {
   "cell_type": "code",
   "execution_count": 100,
   "metadata": {},
   "outputs": [
    {
     "data": {
      "text/plain": [
       "array([-1.,  1.])"
      ]
     },
     "execution_count": 100,
     "metadata": {},
     "output_type": "execute_result"
    }
   ],
   "source": [
    "np.unique(test_target)"
   ]
  },
  {
   "cell_type": "code",
   "execution_count": 96,
   "metadata": {},
   "outputs": [
    {
     "name": "stderr",
     "output_type": "stream",
     "text": [
      "Feature Extraction: 100%|██████████| 15/15 [03:11<00:00, 12.75s/it]\n"
     ]
    }
   ],
   "source": [
    "pred_target = ts_augmenter_pipeline02.predict(test_features)"
   ]
  },
  {
   "cell_type": "code",
   "execution_count": 108,
   "metadata": {},
   "outputs": [
    {
     "data": {
      "image/png": "[encoded data removed]",
      "text/plain": [
       "<Figure size 432x288 with 2 Axes>"
      ]
     },
     "metadata": {},
     "output_type": "display_data"
    }
   ],
   "source": [
    "sns.heatmap(confusion_matrix(test_target, pred_target,\n",
    "                             labels=np.unique(test_target)),\n",
    "            cmap='Blues', annot=True, fmt='.0f',\n",
    "            xticklabels=np.unique(test_target),\n",
    "            yticklabels=np.unique(test_target));"
   ]
  },
  {
   "cell_type": "code",
   "execution_count": 109,
   "metadata": {},
   "outputs": [
    {
     "name": "stdout",
     "output_type": "stream",
     "text": [
      "              precision    recall  f1-score   support\n",
      "\n",
      "        -1.0       1.00      1.00      1.00       681\n",
      "         1.0       1.00      1.00      1.00       639\n",
      "\n",
      "    accuracy                           1.00      1320\n",
      "   macro avg       1.00      1.00      1.00      1320\n",
      "weighted avg       1.00      1.00      1.00      1320\n",
      "\n"
     ]
    }
   ],
   "source": [
    "print(classification_report(test_target, pred_target))"
   ]
  },
  {
   "cell_type": "code",
   "execution_count": null,
   "metadata": {},
   "outputs": [],
   "source": []
  }
 ],
 "metadata": {
  "kernelspec": {
   "display_name": "Python 3",
   "language": "python",
   "name": "python3"
  },
  "language_info": {
   "codemirror_mode": {
    "name": "ipython",
    "version": 3
   },
   "file_extension": ".py",
   "mimetype": "text/x-python",
   "name": "python",
   "nbconvert_exporter": "python",
   "pygments_lexer": "ipython3",
   "version": "3.7.6"
  }
 },
 "nbformat": 4,
 "nbformat_minor": 4
}
